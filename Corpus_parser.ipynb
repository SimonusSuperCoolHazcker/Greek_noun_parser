{
 "cells": [
  {
   "cell_type": "code",
   "execution_count": null,
   "id": "9a6f4078",
   "metadata": {},
   "outputs": [],
   "source": [
    "import requests\n",
    "from bs4 import BeautifulSoup\n",
    "from tqdm.auto import tqdm\n",
    "import json\n",
    "\n",
    "def popup(_, lemmata, inherent, inflectional, smth, translations):\n",
    "    return list(zip(lemmata, inherent, inflectional, smth, translations))\n",
    "\n",
    "words = []\n",
    "\n",
    "for i in tqdm(range(1, 11)):\n",
    "    html = requests.get(f'http://web-corpora.net/GreekCorpus/search/results.php?sid=76707&page={i}&search_language=greek&interface_language=en').text\n",
    "    soup = BeautifulSoup(html)\n",
    "\n",
    "    spans = soup.find_all('span')\n",
    "    this = 0\n",
    "\n",
    "    for span in spans:\n",
    "        try:\n",
    "            annotation = eval(span['onmouseover'][:-1])\n",
    "            word = span.text\n",
    "            words.append([word, annotation])\n",
    "        except SyntaxError:\n",
    "            continue\n",
    "\n",
    "with open('data_from_greek_corpus.json', 'w', encoding='utf8') as f:\n",
    "    json.dump(words, f, ensure_ascii=False, indent=2)\n"
   ]
  }
 ],
 "metadata": {
  "kernelspec": {
   "display_name": "Python 3 (ipykernel)",
   "language": "python",
   "name": "python3"
  },
  "language_info": {
   "codemirror_mode": {
    "name": "ipython",
    "version": 3
   },
   "file_extension": ".py",
   "mimetype": "text/x-python",
   "name": "python",
   "nbconvert_exporter": "python",
   "pygments_lexer": "ipython3",
   "version": "3.11.5"
  }
 },
 "nbformat": 4,
 "nbformat_minor": 5
}
