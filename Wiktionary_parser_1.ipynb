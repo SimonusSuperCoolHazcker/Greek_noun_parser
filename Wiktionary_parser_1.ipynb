{
 "cells": [
  {
   "cell_type": "code",
   "execution_count": null,
   "id": "172eb14d",
   "metadata": {},
   "outputs": [],
   "source": [
    "import requests\n",
    "from bs4 import BeautifulSoup as BS\n",
    "from fake_useragent import UserAgent\n",
    "import re\n",
    "import csv"
   ]
  },
  {
   "cell_type": "code",
   "execution_count": null,
   "id": "e28d2a86",
   "metadata": {},
   "outputs": [],
   "source": [
    "words_saver = []\n",
    "\n",
    "ua = UserAgent()  # Opening site\n",
    "session = requests.session()\n",
    "url = f'https://en.wiktionary.org/wiki/Category:Greek_lemmas'\n",
    "title_obj = ''\n",
    "sav_file = open('sav_file.txt', mode='w', encoding='utf-8')\n",
    "while True:\n",
    "    word_sav = []\n",
    "    req = session.get(url, headers={'User-Agent': ua.random})\n",
    "    page = req.text\n",
    "    soup = BS(page, 'html.parser')\n",
    "    words_count = soup.find('div', {'id': 'mw-pages'}).find_all('li')\n",
    "    for i in range(len(words_count)):\n",
    "        word = words_count[i].find('a').text\n",
    "        word_sav.append(word)\n",
    "        sav_file.write(f'{word}\\n')\n",
    "    print(word_sav)    \n",
    "    links = soup.find('div', {'id': 'mw-pages'})  # Follow the link\n",
    "    title_obj = links.find_all('a')\n",
    "    print(title_obj[-1].text)\n",
    "    title_obj = title_obj[-1]\n",
    "    attrs = title_obj.attrs\n",
    "    href = title_obj.attrs['href']\n",
    "    url = \"https://en.wiktionary.org/\" + href\n",
    "    if title_obj.text == 'previous page':\n",
    "        break\n",
    "    print(url)\n",
    "sav_file.close()\n",
    "print('sav_file')"
   ]
  }
 ],
 "metadata": {
  "kernelspec": {
   "display_name": "Python 3 (ipykernel)",
   "language": "python",
   "name": "python3"
  },
  "language_info": {
   "codemirror_mode": {
    "name": "ipython",
    "version": 3
   },
   "file_extension": ".py",
   "mimetype": "text/x-python",
   "name": "python",
   "nbconvert_exporter": "python",
   "pygments_lexer": "ipython3",
   "version": "3.11.5"
  }
 },
 "nbformat": 4,
 "nbformat_minor": 5
}
